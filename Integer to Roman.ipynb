{
 "cells": [
  {
   "cell_type": "code",
   "execution_count": null,
   "id": "17e7666f",
   "metadata": {
    "vscode": {
     "languageId": "plaintext"
    }
   },
   "outputs": [],
   "source": [
    "# Integer to Roman\n",
    "class Solution:\n",
    "    def intToRoman(self, num: int) -> str:\n",
    "        int_dict = {\n",
    "            1000: 'M', 900: 'CM', 500: 'D', 400: 'CD',\n",
    "            100: 'C', 90: 'XC', 50: 'L', 40: 'XL',\n",
    "            10: 'X', 9: 'IX', 5: 'V', 4: 'IV',\n",
    "            1: 'I'\n",
    "        }\n",
    "\n",
    "        roman =\"\"\n",
    "        for key ,value in int_dict.items():\n",
    "            count = num // key\n",
    "            roman += count * value\n",
    "            num %= key\n",
    "\n",
    "        return roman"
   ]
  }
 ],
 "metadata": {
  "kernelspec": {
   "display_name": "Python 3 (ipykernel)",
   "language": "python",
   "name": "python3"
  },
  "language_info": {
   "codemirror_mode": {
    "name": "ipython",
    "version": 3
   },
   "file_extension": ".py",
   "mimetype": "text/x-python",
   "name": "python",
   "nbconvert_exporter": "python",
   "pygments_lexer": "ipython3",
   "version": "3.12.4"
  }
 },
 "nbformat": 4,
 "nbformat_minor": 5
}
